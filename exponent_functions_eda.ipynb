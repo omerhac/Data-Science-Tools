{
  "nbformat": 4,
  "nbformat_minor": 0,
  "metadata": {
    "colab": {
      "name": "exponent_functions_eda.ipynb",
      "provenance": [],
      "authorship_tag": "ABX9TyP40Hw15xazVufpYdWsPRQC",
      "include_colab_link": true
    },
    "kernelspec": {
      "name": "python3",
      "display_name": "Python 3"
    }
  },
  "cells": [
    {
      "cell_type": "markdown",
      "metadata": {
        "id": "view-in-github",
        "colab_type": "text"
      },
      "source": [
        "<a href=\"https://colab.research.google.com/github/omerhac/Data-Science-Tools/blob/master/exponent_functions_eda.ipynb\" target=\"_parent\"><img src=\"https://colab.research.google.com/assets/colab-badge.svg\" alt=\"Open In Colab\"/></a>"
      ]
    },
    {
      "cell_type": "code",
      "metadata": {
        "id": "JeSJQsTK99Jc",
        "colab_type": "code",
        "colab": {}
      },
      "source": [
        "# imports \n",
        "import tensorflow as tf\n",
        "import numpy as np\n",
        "import matplotlib.pyplot as plt\n",
        "\n",
        "# images path\n",
        "IMAGES_GCS_PATH = 'gs://osic_fibrosis/images'"
      ],
      "execution_count": 1,
      "outputs": []
    },
    {
      "cell_type": "code",
      "metadata": {
        "id": "JyJdgXOMAb1G",
        "colab_type": "code",
        "colab": {
          "base_uri": "https://localhost:8080/",
          "height": 143
        },
        "outputId": "00b9933d-19f9-498c-e382-2fca49cc6c69"
      },
      "source": [
        "# clone and copy repository\n",
        "!git clone https://github.com/omerhac/osic-fibrosis.git\n",
        "!cp -r osic-fibrosis/* ./"
      ],
      "execution_count": 2,
      "outputs": [
        {
          "output_type": "stream",
          "text": [
            "Cloning into 'osic-fibrosis'...\n",
            "remote: Enumerating objects: 356, done.\u001b[K\n",
            "remote: Counting objects: 100% (356/356), done.\u001b[K\n",
            "remote: Compressing objects: 100% (216/216), done.\u001b[K\n",
            "remote: Total 356 (delta 218), reused 263 (delta 130), pack-reused 0\u001b[K\n",
            "Receiving objects: 100% (356/356), 54.94 MiB | 31.11 MiB/s, done.\n",
            "Resolving deltas: 100% (218/218), done.\n"
          ],
          "name": "stdout"
        }
      ]
    },
    {
      "cell_type": "code",
      "metadata": {
        "id": "wgJov9--Arrb",
        "colab_type": "code",
        "colab": {
          "base_uri": "https://localhost:8080/",
          "height": 279
        },
        "outputId": "1c567366-7cfb-4fdb-bfc0-cd645833cf80"
      },
      "source": [
        "import predict \n",
        "import visualize\n",
        "\n",
        "# plot one patient predicted graph\n",
        "exp_gen = predict.exponent_generator(IMAGES_GCS_PATH + '/train')\n",
        "id, func = next(exp_gen)\n",
        "visualize.plot_patient_exp(id, exp_function=func)"
      ],
      "execution_count": 4,
      "outputs": [
        {
          "output_type": "display_data",
          "data": {
            "image/png": "[encoded data removed]",
            "text/plain": [
              "<Figure size 432x288 with 1 Axes>"
            ]
          },
          "metadata": {
            "tags": [],
            "needs_background": "light"
          }
        }
      ]
    },
    {
      "cell_type": "code",
      "metadata": {
        "id": "QAARr54fFawR",
        "colab_type": "code",
        "colab": {
          "base_uri": "https://localhost:8080/",
          "height": 55
        },
        "outputId": "3ba8976d-f172-4427-c38f-1c21390f19bc"
      },
      "source": [
        "import table_data\n",
        "\n",
        "exp_dict = table_data.get_exp_fvc_dict()\n",
        "train_table = table_data.get_train_table()\n",
        "\n",
        "# create exponent functiosn dict\n",
        "func_dict = {}\n",
        "for id in exp_dict:\n",
        "  i_week, i_fvc = table_data.get_initial_fvc(id)\n",
        "  func_dict[id] = predict.ExpFunc(i_fvc, exp_dict[id], i_week)\n"
      ],
      "execution_count": 5,
      "outputs": [
        {
          "output_type": "stream",
          "text": [
            "{'ID00007637202177411956430': <predict.ExpFunc object at 0x7f98d8196f28>, 'ID00009637202177434476278': <predict.ExpFunc object at 0x7f991851e438>, 'ID00010637202177584971671': <predict.ExpFunc object at 0x7f98b69c0e48>, 'ID00011637202177653955184': <predict.ExpFunc object at 0x7f98b69c0c18>, 'ID00012637202177665765362': <predict.ExpFunc object at 0x7f98b69469b0>, 'ID00014637202177757139317': <predict.ExpFunc object at 0x7f98b6946a90>, 'ID00015637202177877247924': <predict.ExpFunc object at 0x7f98b6946e80>, 'ID00019637202178323708467': <predict.ExpFunc object at 0x7f98b6946d68>, 'ID00020637202178344345685': <predict.ExpFunc object at 0x7f98b6946da0>, 'ID00023637202179104603099': <predict.ExpFunc object at 0x7f98b6946eb8>, 'ID00025637202179541264076': <predict.ExpFunc object at 0x7f98b6946c18>, 'ID00026637202179561894768': <predict.ExpFunc object at 0x7f98b6946fd0>, 'ID00027637202179689871102': <predict.ExpFunc object at 0x7f98b6946b00>, 'ID00030637202181211009029': <predict.ExpFunc object at 0x7f98b6946e48>, 'ID00032637202181710233084': <predict.ExpFunc object at 0x7f98b6946c50>, 'ID00035637202182204917484': <predict.ExpFunc object at 0x7f98b6946278>, 'ID00038637202182690843176': <predict.ExpFunc object at 0x7f98b6946a58>, 'ID00042637202184406822975': <predict.ExpFunc object at 0x7f98b69464a8>, 'ID00047637202184938901501': <predict.ExpFunc object at 0x7f98b6946358>, 'ID00048637202185016727717': <predict.ExpFunc object at 0x7f98b6946128>, 'ID00051637202185848464638': <predict.ExpFunc object at 0x7f98b6946240>, 'ID00052637202186188008618': <predict.ExpFunc object at 0x7f98b6946320>, 'ID00060637202187965290703': <predict.ExpFunc object at 0x7f98b6946208>, 'ID00061637202188184085559': <predict.ExpFunc object at 0x7f98b69460f0>, 'ID00062637202188654068490': <predict.ExpFunc object at 0x7f98b6946160>, 'ID00067637202189903532242': <predict.ExpFunc object at 0x7f98b69462e8>, 'ID00068637202190879923934': <predict.ExpFunc object at 0x7f98b6946f28>, 'ID00072637202198161894406': <predict.ExpFunc object at 0x7f98b6946860>, 'ID00073637202198167792918': <predict.ExpFunc object at 0x7f98b6946cc0>, 'ID00075637202198610425520': <predict.ExpFunc object at 0x7f98b6946e10>, 'ID00076637202199015035026': <predict.ExpFunc object at 0x7f98b6946d30>, 'ID00077637202199102000916': <predict.ExpFunc object at 0x7f98b6946ac8>, 'ID00078637202199415319443': <predict.ExpFunc object at 0x7f98b6946be0>, 'ID00082637202201836229724': <predict.ExpFunc object at 0x7f98b6946438>, 'ID00086637202203494931510': <predict.ExpFunc object at 0x7f98b6946978>, 'ID00089637202204675567570': <predict.ExpFunc object at 0x7f98b6946b70>, 'ID00090637202204766623410': <predict.ExpFunc object at 0x7f98b69462b0>, 'ID00093637202205278167493': <predict.ExpFunc object at 0x7f98b6946198>, 'ID00094637202205333947361': <predict.ExpFunc object at 0x7f98b6946ef0>, 'ID00099637202206203080121': <predict.ExpFunc object at 0x7f98b6946cf8>, 'ID00102637202206574119190': <predict.ExpFunc object at 0x7f98b6946080>, 'ID00104637202208063407045': <predict.ExpFunc object at 0x7f98b69469e8>, 'ID00105637202208831864134': <predict.ExpFunc object at 0x7f98b6946b38>, 'ID00108637202209619669361': <predict.ExpFunc object at 0x7f98b6946ba8>, 'ID00109637202210454292264': <predict.ExpFunc object at 0x7f98b695bfd0>, 'ID00110637202210673668310': <predict.ExpFunc object at 0x7f98b695ba58>, 'ID00111637202210956877205': <predict.ExpFunc object at 0x7f98b695bdd8>, 'ID00115637202211874187958': <predict.ExpFunc object at 0x7f98b695b978>, 'ID00117637202212360228007': <predict.ExpFunc object at 0x7f98b695b0b8>, 'ID00119637202215426335765': <predict.ExpFunc object at 0x7f98b695b518>, 'ID00122637202216437668965': <predict.ExpFunc object at 0x7f98b695b358>, 'ID00123637202217151272140': <predict.ExpFunc object at 0x7f98b695bc88>, 'ID00124637202217596410344': <predict.ExpFunc object at 0x7f98b695b4e0>, 'ID00125637202218590429387': <predict.ExpFunc object at 0x7f98b695b438>, 'ID00126637202218610655908': <predict.ExpFunc object at 0x7f98b695b940>, 'ID00127637202219096738943': <predict.ExpFunc object at 0x7f98b695b4a8>, 'ID00128637202219474716089': <predict.ExpFunc object at 0x7f98b695b6d8>, 'ID00129637202219868188000': <predict.ExpFunc object at 0x7f98b695b9b0>, 'ID00130637202220059448013': <predict.ExpFunc object at 0x7f98b695bef0>, 'ID00131637202220424084844': <predict.ExpFunc object at 0x7f98b695bda0>, 'ID00132637202222178761324': <predict.ExpFunc object at 0x7f98b695b0f0>, 'ID00133637202223847701934': <predict.ExpFunc object at 0x7f98b695b828>, 'ID00134637202223873059688': <predict.ExpFunc object at 0x7f98b695bb38>, 'ID00135637202224630271439': <predict.ExpFunc object at 0x7f98b695bc50>, 'ID00136637202224951350618': <predict.ExpFunc object at 0x7f98b695b128>, 'ID00138637202231603868088': <predict.ExpFunc object at 0x7f98b695bf28>, 'ID00139637202231703564336': <predict.ExpFunc object at 0x7f98b695bba8>, 'ID00140637202231728595149': <predict.ExpFunc object at 0x7f98b695bcc0>, 'ID00149637202232704462834': <predict.ExpFunc object at 0x7f98b695b860>, 'ID00161637202235731948764': <predict.ExpFunc object at 0x7f98b695b470>, 'ID00165637202237320314458': <predict.ExpFunc object at 0x7f98c2aa9940>, 'ID00167637202237397919352': <predict.ExpFunc object at 0x7f98c2a7bfd0>, 'ID00168637202237852027833': <predict.ExpFunc object at 0x7f98b695b2b0>, 'ID00169637202238024117706': <predict.ExpFunc object at 0x7f9904de8c88>, 'ID00170637202238079193844': <predict.ExpFunc object at 0x7f98b695bb00>, 'ID00172637202238316925179': <predict.ExpFunc object at 0x7f98c0564f98>, 'ID00173637202238329754031': <predict.ExpFunc object at 0x7f990c0fd6a0>, 'ID00180637202240177410333': <predict.ExpFunc object at 0x7f98c0564630>, 'ID00183637202241995351650': <predict.ExpFunc object at 0x7f98b695bcf8>, 'ID00184637202242062969203': <predict.ExpFunc object at 0x7f98b695beb8>, 'ID00186637202242472088675': <predict.ExpFunc object at 0x7f98b695b588>, 'ID00190637202244450116191': <predict.ExpFunc object at 0x7f991d1cb0f0>, 'ID00192637202245493238298': <predict.ExpFunc object at 0x7f98c057bd68>, 'ID00196637202246668775836': <predict.ExpFunc object at 0x7f98c057bbe0>, 'ID00197637202246865691526': <predict.ExpFunc object at 0x7f98c057be48>, 'ID00199637202248141386743': <predict.ExpFunc object at 0x7f98c057b0b8>, 'ID00202637202249376026949': <predict.ExpFunc object at 0x7f98b695bd30>, 'ID00207637202252526380974': <predict.ExpFunc object at 0x7f98b695b198>, 'ID00210637202257228694086': <predict.ExpFunc object at 0x7f98b695ba90>, 'ID00213637202257692916109': <predict.ExpFunc object at 0x7f98b695b208>, 'ID00214637202257820847190': <predict.ExpFunc object at 0x7f98b695b6a0>, 'ID00216637202257988213445': <predict.ExpFunc object at 0x7f98b695b668>, 'ID00218637202258156844710': <predict.ExpFunc object at 0x7f98b695bf60>, 'ID00219637202258203123958': <predict.ExpFunc object at 0x7f98b695b898>, 'ID00221637202258717315571': <predict.ExpFunc object at 0x7f98b695b908>, 'ID00222637202259066229764': <predict.ExpFunc object at 0x7f98b695be10>, 'ID00224637202259281193413': <predict.ExpFunc object at 0x7f98b695be48>, 'ID00225637202259339837603': <predict.ExpFunc object at 0x7f98b695b1d0>, 'ID00228637202259965313869': <predict.ExpFunc object at 0x7f98b695bac8>, 'ID00229637202260254240583': <predict.ExpFunc object at 0x7f98b695bbe0>, 'ID00232637202260377586117': <predict.ExpFunc object at 0x7f98bd684b38>, 'ID00233637202260580149633': <predict.ExpFunc object at 0x7f98bd684ef0>, 'ID00234637202261078001846': <predict.ExpFunc object at 0x7f98bd684dd8>, 'ID00235637202261451839085': <predict.ExpFunc object at 0x7f98bd6846d8>, 'ID00240637202264138860065': <predict.ExpFunc object at 0x7f98bd684668>, 'ID00241637202264294508775': <predict.ExpFunc object at 0x7f98bd6840f0>, 'ID00242637202264759739921': <predict.ExpFunc object at 0x7f98bd684b00>, 'ID00248637202266698862378': <predict.ExpFunc object at 0x7f990b133ef0>, 'ID00249637202266730854017': <predict.ExpFunc object at 0x7f98bcf0c048>, 'ID00251637202267455595113': <predict.ExpFunc object at 0x7f98bcf0c080>, 'ID00255637202267923028520': <predict.ExpFunc object at 0x7f990b133f28>, 'ID00264637202270643353440': <predict.ExpFunc object at 0x7f990b133da0>, 'ID00267637202270790561585': <predict.ExpFunc object at 0x7f990b133e10>, 'ID00273637202271319294586': <predict.ExpFunc object at 0x7f98bd684358>, 'ID00275637202271440119890': <predict.ExpFunc object at 0x7f98bd684da0>, 'ID00276637202271694539978': <predict.ExpFunc object at 0x7f98bd684d30>, 'ID00279637202272164826258': <predict.ExpFunc object at 0x7f98bd684cf8>, 'ID00283637202278714365037': <predict.ExpFunc object at 0x7f98bd6849b0>, 'ID00285637202278913507108': <predict.ExpFunc object at 0x7f98bd684208>, 'ID00288637202279148973731': <predict.ExpFunc object at 0x7f98bd684e80>, 'ID00290637202279304677843': <predict.ExpFunc object at 0x7f98bd6847b8>, 'ID00291637202279398396106': <predict.ExpFunc object at 0x7f98bd684a90>, 'ID00294637202279614924243': <predict.ExpFunc object at 0x7f98bd684080>, 'ID00296637202279895784347': <predict.ExpFunc object at 0x7f98bd684ba8>, 'ID00298637202280361773446': <predict.ExpFunc object at 0x7f98bd6841d0>, 'ID00299637202280383305867': <predict.ExpFunc object at 0x7f98bd684128>, 'ID00305637202281772703145': <predict.ExpFunc object at 0x7f98bd684320>, 'ID00307637202282126172865': <predict.ExpFunc object at 0x7f98bcf05be0>, 'ID00309637202282195513787': <predict.ExpFunc object at 0x7f98bcf058d0>, 'ID00312637202282607344793': <predict.ExpFunc object at 0x7f98bcf056a0>, 'ID00317637202283194142136': <predict.ExpFunc object at 0x7f98bcf05198>, 'ID00319637202283897208687': <predict.ExpFunc object at 0x7f98bcf05c18>, 'ID00322637202284842245491': <predict.ExpFunc object at 0x7f98bcf05f60>, 'ID00323637202285211956970': <predict.ExpFunc object at 0x7f98bcf05978>, 'ID00329637202285906759848': <predict.ExpFunc object at 0x7f98bcf05860>, 'ID00331637202286306023714': <predict.ExpFunc object at 0x7f98bcf05fd0>, 'ID00335637202286784464927': <predict.ExpFunc object at 0x7f98bcf05a20>, 'ID00336637202286801879145': <predict.ExpFunc object at 0x7f98bcf05b70>, 'ID00337637202286839091062': <predict.ExpFunc object at 0x7f98bcf05da0>, 'ID00339637202287377736231': <predict.ExpFunc object at 0x7f98bcf05d68>, 'ID00340637202287399835821': <predict.ExpFunc object at 0x7f98bcf05c88>, 'ID00341637202287410878488': <predict.ExpFunc object at 0x7f98bcf05cf8>, 'ID00342637202287526592911': <predict.ExpFunc object at 0x7f98bcf05cc0>, 'ID00343637202287577133798': <predict.ExpFunc object at 0x7f98bcf05ba8>, 'ID00344637202287684217717': <predict.ExpFunc object at 0x7f98bcf05ac8>, 'ID00351637202289476567312': <predict.ExpFunc object at 0x7f98bcf05b38>, 'ID00355637202295106567614': <predict.ExpFunc object at 0x7f98bcf05b00>, 'ID00358637202295388077032': <predict.ExpFunc object at 0x7f98bcf05048>, 'ID00360637202295712204040': <predict.ExpFunc object at 0x7f98bcf05128>, 'ID00364637202296074419422': <predict.ExpFunc object at 0x7f98bcf051d0>, 'ID00365637202296085035729': <predict.ExpFunc object at 0x7f98bcf05208>, 'ID00367637202296290303449': <predict.ExpFunc object at 0x7f98bcf05898>, 'ID00368637202296470751086': <predict.ExpFunc object at 0x7f98bcf05828>, 'ID00370637202296737666151': <predict.ExpFunc object at 0x7f98bcf05748>, 'ID00371637202296828615743': <predict.ExpFunc object at 0x7f98bcf057f0>, 'ID00376637202297677828573': <predict.ExpFunc object at 0x7f98bcf05780>, 'ID00378637202298597306391': <predict.ExpFunc object at 0x7f98bcf05630>, 'ID00381637202299644114027': <predict.ExpFunc object at 0x7f98bcf05668>, 'ID00383637202300493233675': <predict.ExpFunc object at 0x7f98bcf05710>, 'ID00388637202301028491611': <predict.ExpFunc object at 0x7f98bcf052e8>, 'ID00392637202302319160044': <predict.ExpFunc object at 0x7f98bcf056d8>, 'ID00393637202302431697467': <predict.ExpFunc object at 0x7f98bcf055f8>, 'ID00398637202303897337979': <predict.ExpFunc object at 0x7f98bcf05588>, 'ID00400637202305055099402': <predict.ExpFunc object at 0x7f98bcf053c8>, 'ID00401637202305320178010': <predict.ExpFunc object at 0x7f98bcf054e0>, 'ID00405637202308359492977': <predict.ExpFunc object at 0x7f98bcf05400>, 'ID00407637202308788732304': <predict.ExpFunc object at 0x7f98bcf05390>, 'ID00408637202308839708961': <predict.ExpFunc object at 0x7f98bcf05550>, 'ID00411637202309374271828': <predict.ExpFunc object at 0x7f98bcf05518>, 'ID00414637202310318891556': <predict.ExpFunc object at 0x7f98bcf05438>, 'ID00417637202310901214011': <predict.ExpFunc object at 0x7f98bcf054a8>, 'ID00419637202311204720264': <predict.ExpFunc object at 0x7f98bcf05470>, 'ID00421637202311550012437': <predict.ExpFunc object at 0x7f98bcf05358>, 'ID00422637202311677017371': <predict.ExpFunc object at 0x7f98bcf05240>, 'ID00423637202312137826377': <predict.ExpFunc object at 0x7f98bcf05dd8>, 'ID00426637202313170790466': <predict.ExpFunc object at 0x7f98bcf05d30>}\n"
          ],
          "name": "stdout"
        }
      ]
    }
  ]
}